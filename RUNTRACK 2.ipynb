{
 "cells": [
  {
   "cell_type": "markdown",
   "metadata": {},
   "source": [
    "JOB 0"
   ]
  },
  {
   "cell_type": "code",
   "execution_count": 9,
   "metadata": {},
   "outputs": [
    {
     "name": "stdout",
     "output_type": "stream",
     "text": [
      "Mon prénom est  Shirin\n",
      "Mon nom est  BASHIRIAMID\n"
     ]
    }
   ],
   "source": [
    "class Personne:\n",
    "    prénom = \"Shirin\"\n",
    "    nom = \"BASHIRIAMID\"\n",
    "    def Sepresenter(x):\n",
    "        print(\"Mon prénom est \",x.prénom)\n",
    "        print(\"Mon nom est \",x.nom)\n",
    "\n",
    "y = Personne()\n",
    "y.Sepresenter()"
   ]
  },
  {
   "cell_type": "code",
   "execution_count": 60,
   "metadata": {},
   "outputs": [
    {
     "name": "stdout",
     "output_type": "stream",
     "text": [
      "<bound method Personne.get_nom of <__main__.Personne object at 0x0000023EF45E3F10>>\n",
      "Mon prénom est  shirin\n",
      "Mon nom est  Amid\n",
      "('shirin', 'Amid')\n",
      "('kadi', 'ghahri')\n",
      "Mon prénom est  kadi\n",
      "Mon nom est  ghahri\n",
      "Mon prénom est  Shahin\n",
      "Mon nom est  Rezaei\n",
      "Prénom   Shahin\n",
      "Nom      Rezaei\n"
     ]
    }
   ],
   "source": [
    "class Personne(object):\n",
    "   \n",
    "    \n",
    "    def __init__(self,prenom,nom):\n",
    "        self.prenom=prenom\n",
    "        self.nom=nom\n",
    "        \n",
    "    def Sepresenter(self):\n",
    "        print(\"Mon prénom est \",self.prenom)\n",
    "        print(\"Mon nom est \",self.nom)\n",
    "        \n",
    "        \n",
    "    def get_nom(self):\n",
    "        return self.prenom , self.nom\n",
    "    \n",
    "        \n",
    "        \n",
    "    def set_nom(self,prenom,nom):\n",
    "        self.prenom=prenom\n",
    "        self.nom =nom\n",
    "        \n",
    "        \n",
    "    \n",
    "    \n",
    "    \n",
    "        \n",
    "\n",
    "\n",
    "\n",
    "p1=Personne(\"shirin\",\"Amid\")\n",
    "print(p1.get_nom)\n",
    "p1.Sepresenter()\n",
    "\n",
    "print(p1.get_nom())\n",
    "p1.set_nom(\"kadi\",\"ghahri\")\n",
    "print(p1.get_nom())\n",
    "p1.Sepresenter()\n",
    "\n",
    "#print(\"Prénom  \",p1.prenom)\n",
    "#print(\"Nom     \",p1.nom)\n",
    "\n",
    "\n",
    "\n",
    "p2=Personne(\"Shahin\",\"Rezaei\")\n",
    "p2.Sepresenter()\n",
    "print(\"Prénom  \",p2.prenom)\n",
    "print(\"Nom     \",p2.nom)\n",
    "\n",
    "\n",
    "        "
   ]
  },
  {
   "cell_type": "markdown",
   "metadata": {},
   "source": [
    "JOB 1"
   ]
  },
  {
   "cell_type": "code",
   "execution_count": 21,
   "metadata": {},
   "outputs": [
    {
     "name": "stdout",
     "output_type": "stream",
     "text": [
      "St Exopery is the auteur of  Le petit prince\n"
     ]
    }
   ],
   "source": [
    "class Livre():\n",
    "    \n",
    "    def __init__(self,titre):\n",
    "        \n",
    "        self.ref = Auteur()\n",
    "        self.titre = titre\n",
    "        \n",
    "        \n",
    "        \n",
    "class Auteur():\n",
    "    \n",
    "    def __init__(self):\n",
    "        self.auteur = \"Le petit prince\"\n",
    "        \n",
    "\n",
    "        \n",
    "        \n",
    "obj1 = Livre(\"St Exopery\")\n",
    "obj2 = obj1.ref\n",
    "\n",
    "\n",
    "print(obj1.titre , \"is the auteur of \" ,obj2.auteur)\n"
   ]
  },
  {
   "cell_type": "code",
   "execution_count": 27,
   "metadata": {},
   "outputs": [
    {
     "name": "stdout",
     "output_type": "stream",
     "text": [
      "The writer of  le Petit prince\n"
     ]
    }
   ],
   "source": [
    "class Personne(object):\n",
    "   \n",
    "    \n",
    "    def __init__(self,prenom,nom):\n",
    "        self.prenom=prenom\n",
    "        self.nom=nom\n",
    "        \n",
    "    def getNom(self):\n",
    "        return self.prenom , self.nom\n",
    "        \n",
    "        \n",
    "class Auteur(Personne):\n",
    "    \n",
    "    def __init__(self,prenom,nom,book):\n",
    "        self.book = book\n",
    "        Personne.__init__(self,prenom,nom)\n",
    "        \n",
    "        \n",
    "    def getBook(self):\n",
    "        return self.book\n",
    "        \n",
    "class Livre(object):\n",
    "    \n",
    "    def __init__(self,prenom,nom,book):\n",
    "        self.ref = Auteur(prenom,nom,book)\n",
    "        \n",
    "        \n",
    "        \n",
    "        \n",
    "        \n",
    "obj = Livre(\"Antoine\",\"Exupery\",\"le Petit prince\")\n",
    "\n",
    "\n",
    "\n",
    "print(\"The writer of \",obj.ref.getBook())"
   ]
  },
  {
   "cell_type": "code",
   "execution_count": null,
   "metadata": {},
   "outputs": [],
   "source": []
  },
  {
   "cell_type": "code",
   "execution_count": 16,
   "metadata": {},
   "outputs": [
    {
     "name": "stdout",
     "output_type": "stream",
     "text": [
      "The writer of  le Petit prince\n"
     ]
    }
   ],
   "source": [
    "class Personne(object):\n",
    "   \n",
    "    \n",
    "    def __init__(self,prenom,nom):\n",
    "        self.prenom=prenom\n",
    "        self.nom=nom\n",
    "        \n",
    "    def getNom(self):\n",
    "        return self.prenom , self.nom\n",
    "        \n",
    "        \n",
    "class Auteur(Personne):\n",
    "    \n",
    "    def __init__(self,prenom,nom,titre):\n",
    "        self.titre = titre\n",
    "        Personne.__init__(self,prenom,nom)\n",
    "        \n",
    "        \n",
    "        \n",
    "    def getBook(self):\n",
    "        \n",
    "        return self.titre\n",
    "    \n",
    "    \n",
    "    \n",
    "oeuvreliste = []       \n",
    "        \n",
    "class Livre(object):\n",
    "    \n",
    "    def __init__(self,prenom,nom,titre):\n",
    "        self.ref = Auteur(prenom,nom,titre)\n",
    "        \n",
    "        \n",
    "        \n",
    "        \n",
    "        \n",
    "obj = Livre(\"Antoine\",\"Exupery\",\"le Petit prince\")\n",
    "\n",
    "oeuvreliste.append(obj)\n",
    "\n",
    "print(\"The writer of \",obj.ref.getBook())"
   ]
  },
  {
   "cell_type": "markdown",
   "metadata": {},
   "source": [
    "JOB 2.718"
   ]
  },
  {
   "cell_type": "code",
   "execution_count": null,
   "metadata": {},
   "outputs": [],
   "source": [
    "class Personne(object):\n",
    "   \n",
    "    \n",
    "    def __init__(self,nom):\n",
    "        self.nom=nom\n",
    "    \n",
    "    def getNom(self):\n",
    "        return self.nom\n",
    "\n",
    "class Auteur(Personne):\n",
    "    \n",
    "     def __init__(self,nom,livre):\n",
    "        self.livre = livre\n",
    "        Personne.__init__(self,nom)\n",
    "        \n",
    "    def getBook(self):\n",
    "        return self.livre\n",
    "    \n",
    "oeuvre = []\n",
    "\n",
    "obj1=Auteur(\"a\",\"b1\")\n",
    "obj2=Auteur(\"s\",\"b2\")\n",
    "\n",
    "oeuvre.append(obj1)\n",
    "oeuvre.append(obj2)\n",
    "\n",
    "    \n",
    "class Client(Personne):\n",
    "    \n",
    "    \n",
    "    \n",
    "class Biblioteque():\n",
    "    \n",
    "    def __init__(self, nom, livre, quantite,catalogue):\n",
    "        self.nom=nom\n",
    "        self.catalogue=catalogue\n",
    "        \n",
    "        \n",
    "    def acheterLivre(self,nom,livre, quantite):\n",
    "        Auteur.__init__(self,livre)\n",
    "        self.quantite=quantite\n",
    "        \n",
    "    def getQuantite(self):\n",
    "        return self.quantite\n",
    "    \n",
    "    def Catalogue(self,livre,quantite):\n",
    "        self.livre=livre\n",
    "        if livre is in oeuvre:\n",
    "            catalogue.append(livre)\n",
    "            catalogue.append(quantite)\n",
    "            \n",
    "    def Inventaire(self):\n",
    "        return self.catalogue\n",
    "    \n",
    "    \n",
    "        \n",
    "        \n",
    "        \n",
    "        \n",
    "        \n",
    "        \n",
    "    \n",
    "    "
   ]
  }
 ],
 "metadata": {
  "kernelspec": {
   "display_name": "Python 3",
   "language": "python",
   "name": "python3"
  },
  "language_info": {
   "codemirror_mode": {
    "name": "ipython",
    "version": 3
   },
   "file_extension": ".py",
   "mimetype": "text/x-python",
   "name": "python",
   "nbconvert_exporter": "python",
   "pygments_lexer": "ipython3",
   "version": "3.8.5"
  }
 },
 "nbformat": 4,
 "nbformat_minor": 4
}
